{
 "cells": [
  {
   "cell_type": "code",
   "execution_count": 1,
   "metadata": {},
   "outputs": [
    {
     "name": "stdout",
     "output_type": "stream",
     "text": [
      "Hello World\n"
     ]
    }
   ],
   "source": [
    "print('Hello World')"
   ]
  },
  {
   "cell_type": "code",
   "execution_count": 2,
   "metadata": {},
   "outputs": [],
   "source": [
    "############ Chapter 2 ############"
   ]
  },
  {
   "cell_type": "code",
   "execution_count": 3,
   "metadata": {},
   "outputs": [
    {
     "name": "stdout",
     "output_type": "stream",
     "text": [
      "1.0 0.75\n",
      "Mean of Y: 1.0\n",
      "Variance of Y: 0.5\n"
     ]
    }
   ],
   "source": [
    "#Q1\n",
    "#a\n",
    "prb_dst = {\"Y=0\" : 0.25, \"Y=1\" : 0.5, \"Y=2\" : 0.25}\n",
    "#b\n",
    "cum_dst = {\"Y=0\":prb_dst[\"Y=0\"], \"Y=1\":prb_dst[\"Y=0\"]+prb_dst[\"Y=1\"], \"Y=2\":prb_dst[\"Y=0\"]+prb_dst[\"Y=1\"]+prb_dst[\"Y=2\"]}\n",
    "print(cum_dst[\"Y=2\"],cum_dst[\"Y=1\"])   #Example to see if it is working\n",
    "#c\n",
    "mean_Y = (0 * 0.25) + (1 * 0.5) + (2 * 0.25)\n",
    "print(\"Mean of Y:\", mean_Y)\n",
    "mean_Y_2 = (0**2 * 0.25) + (1**2 * 0.5) + (2**2 * 0.25)\n",
    "print(\"Variance of Y:\", mean_Y_2 - (mean_Y)**2)"
   ]
  },
  {
   "cell_type": "code",
   "execution_count": 4,
   "metadata": {},
   "outputs": [
    {
     "name": "stdout",
     "output_type": "stream",
     "text": [
      "Expected value of X: 0.7\n",
      "Expected value of Y: 0.78\n",
      "Variance of X: 0.20999999999999996\n",
      "Variance of Y: 0.17160000000000003\n",
      "0.08399999999999999\n",
      "0.4424976788687098\n"
     ]
    }
   ],
   "source": [
    "#Q2\n",
    "import math\n",
    "prb_dst_Y = [0.22, 0.78]\n",
    "prb_dst_X = [0.30, 0.7]\n",
    "#a\n",
    "mean_X=(prb_dst_X[0]*0)+(prb_dst_X[1]*1)\n",
    "mean_Y=(prb_dst_Y[0]*0)+(prb_dst_Y[1]*1)\n",
    "print(\"Expected value of X:\", mean_X)\n",
    "print(\"Expected value of Y:\", mean_Y)\n",
    "#b\n",
    "var_X=((0-mean_X)**2)*prb_dst_X[0]+(1-mean_X)**2*prb_dst_X[1]\n",
    "var_Y=((0-mean_Y)**2)*prb_dst_Y[0]+(1-mean_Y)**2*prb_dst_Y[1]\n",
    "print(\"Variance of X:\", var_X)\n",
    "print(\"Variance of Y:\", var_Y)\n",
    "#c\n",
    "cov_xy=(0-mean_X)*(0-mean_Y)*0.15+(0-mean_X)*(1-mean_Y)*0.15+(1-mean_X)*(0-mean_Y)*0.07+(1-mean_X)*(1-mean_Y)*0.63\n",
    "print(cov_xy)\n",
    "#d\n",
    "corr_xy= cov_xy / (math.sqrt(var_X*var_Y))\n",
    "print(corr_xy)"
   ]
  },
  {
   "cell_type": "code",
   "execution_count": 5,
   "metadata": {},
   "outputs": [
    {
     "name": "stdout",
     "output_type": "stream",
     "text": [
      "Expected value of W: 7.199999999999999\n",
      "Expected value of V: 14.54\n",
      "Variance of W: 7.559999999999999\n",
      "Variance of V: 8.408400000000002\n",
      "Covariance of W and V: -3.5279999999999996\n",
      "Correlation between W and V: -0.4424976788687097\n"
     ]
    }
   ],
   "source": [
    "#3\n",
    "#a\n",
    "# w = 3 + 6X and V = 20 - 7Y\n",
    "print(\"Expected value of W:\", 3 + 6 * mean_X)\n",
    "print(\"Expected value of V:\", 20 - (7 * mean_Y))\n",
    "#b\n",
    "print(\"Variance of W:\", 6**2 * var_X)\n",
    "print(\"Variance of V:\", (-7)**2 * var_Y)\n",
    "#c\n",
    "print(\"Covariance of W and V:\", 6 * (-7) * cov_xy)\n",
    "print(\"Correlation between W and V:\", (6 * (-7) * cov_xy) / (math.sqrt((6**2 * var_X) * ((-7)**2 * var_Y))))"
   ]
  },
  {
   "cell_type": "code",
   "execution_count": 6,
   "metadata": {},
   "outputs": [],
   "source": [
    "#4\n",
    "# proof question - skipped"
   ]
  },
  {
   "cell_type": "code",
   "execution_count": 7,
   "metadata": {},
   "outputs": [
    {
     "name": "stdout",
     "output_type": "stream",
     "text": [
      "Mean Celcius: 21.10888888888889\n",
      "Standard deviation in Celcius: 3.8888888888888893\n"
     ]
    }
   ],
   "source": [
    "#5\n",
    "print(\"Mean Celcius:\", -17.78 + (5/9) * 70)\n",
    "print(\"Standard deviation in Celcius:\", (5/9)*7)"
   ]
  },
  {
   "cell_type": "code",
   "execution_count": 8,
   "metadata": {},
   "outputs": [
    {
     "name": "stdout",
     "output_type": "stream",
     "text": [
      "E(Y) is: 0.965\n",
      "Unemployment rate is: 0.03500000000000003\n",
      "E(Y|X=1) is: 0.9773869346733668\n",
      "E(Y|X=0) is: 0.9568106312292358\n",
      "Unemployment for college Graduates: 0.022613065326633208\n",
      "Unemployment for non-college Graduates: 0.04318936877076418\n",
      "Probability of this worker is a college graduate: 0.2571428571428571\n",
      "Probability of this worker is a non-college graduate: 0.7428571428571428\n",
      "They're not independent.\n"
     ]
    }
   ],
   "source": [
    "#6\n",
    "#a\n",
    "mean_emplymnt = 0 * 0.035 + 1 * 0.965\n",
    "mean_grads = 0 * 0.602 + 1 * 0.398\n",
    "print(\"E(Y) is:\", mean_emplymnt)\n",
    "#b\n",
    "print(\"Unemployment rate is:\", 1 - mean_emplymnt)\n",
    "#c\n",
    "print(\"E(Y|X=1) is:\", 0 * (0.009/0.398) + 1 * (0.389/0.398))\n",
    "print(\"E(Y|X=0) is:\", 0 * (0.026/0.602) + 1 * (0.576/0.602))\n",
    "#d\n",
    "print(\"Unemployment for college Graduates:\", 1 - (0 * (0.009/0.398) + 1 * (0.389/0.398)))\n",
    "print(\"Unemployment for non-college Graduates:\", 1 - (0*(0.026/0.602) + 1 * (0.576/0.602)))\n",
    "#e\n",
    "print(\"Probability of this worker is a college graduate:\", 0.009/0.035)\n",
    "print(\"Probability of this worker is a non-college graduate:\", 0.026/0.035)\n",
    "#f\n",
    "# Rule for independence => P(Y=0|X=0) = P(Y=0), let's test it;\n",
    "if (0.026/0.602) == 0.035:\n",
    "    print(\"They're independent.\")\n",
    "else:\n",
    "    print(\"They're not independent.\")"
   ]
  },
  {
   "cell_type": "code",
   "execution_count": 9,
   "metadata": {},
   "outputs": [
    {
     "name": "stdout",
     "output_type": "stream",
     "text": [
      "The mean for a couple: 85000\n",
      "Covariance between Male and Female earnings: 172800000.0\n",
      "standard deviation of C: 28523.67437761131\n"
     ]
    }
   ],
   "source": [
    "#7\n",
    "#a\n",
    "print(\"The mean for a couple:\", 40000 + 45000)\n",
    "#b\n",
    "# Corr(M,F) = Cov(M,F) / standard deviation of F and M => Cov(M,F) = Corr(M,F) * stdev(M) * stdev(F)\n",
    "print(\"Covariance between Male and Female earnings:\", 18000 * 12000 * 0.8)\n",
    "#c\n",
    "# Var(C)= Var(M) + Var(F) + 2 * Cov(M,F)\n",
    "print(\"standard deviation of C:\", math.sqrt(18000**2 + 12000**2 + 2 * (18000*12000*0.8)))"
   ]
  },
  {
   "cell_type": "code",
   "execution_count": 10,
   "metadata": {},
   "outputs": [],
   "source": [
    "#8\n",
    "# Proof questiopn - skipped"
   ]
  },
  {
   "cell_type": "code",
   "execution_count": 11,
   "metadata": {},
   "outputs": [
    {
     "name": "stdout",
     "output_type": "stream",
     "text": [
      "The mean of Y: 30.15\n",
      "The variance of Y: 218.2075000000001\n",
      "The mean of Y given X=8 39.205128205128204\n",
      "The variance of Y given X=8: 241.65023011176845\n",
      "Covariance between X and Y: 11.000499999999988\n",
      "Correlation between X and Y: 0.2863972930685921\n"
     ]
    }
   ],
   "source": [
    "#9\n",
    "#a\n",
    "meanofY = 14 * 0.21 + 22 * 0.23 + 30 * 0.3 + 40 * 0.15 + 65 * 0.11\n",
    "print(\"The mean of Y:\", meanofY)\n",
    "meanofYsquare = 14**2 * 0.21 + 22**2 * 0.23 + 30**2 * 0.3 + 40**2 * 0.15 + 65**2 * 0.11\n",
    "#Var(Y) = E(Y**2) - (E(Y))**2\n",
    "print(\"The variance of Y:\", meanofYsquare - meanofY**2)\n",
    "#b\n",
    "#P(Y|X=8)\n",
    "meanofYgivenxis8 = (14*0.02/0.39)+(22*0.03/0.39)+(30*0.15/0.39)+(40*0.1/0.39)+(65*0.09/0.39)\n",
    "print(\"The mean of Y given X=8\", meanofYgivenxis8)\n",
    "meanofYsquaregivenxis8 = (14**2*0.02/0.39)+(22**2*0.03/0.39)+(30**2*0.15/0.39)+(40**2*0.1/0.39)+(65**2*0.09/0.39)\n",
    "print(\"The variance of Y given X=8:\", meanofYsquaregivenxis8 - (meanofYgivenxis8)**2)\n",
    "#c\n",
    "EXY=(1*14*0.02)+(1*22*0.05)+(1*30*0.10)+(1*40*0.03)+(1*65*0.01)+(5*14*0.17)+(5*22*0.15)+(5*30*0.05)+(5*40*0.02)+(5*65*0.01)+(8*14*0.02)+(8*22*0.03)+(8*30*0.15)+(8*40*0.1)+(8*65*0.09)\n",
    "EX=(1*0.21)+(5*0.40)+(8*0.39)\n",
    "#Covariance formula = Cov(X,Y) = E(X,Y) - E(X)*E(Y)\n",
    "print(\"Covariance between X and Y:\", EXY - (EX*meanofY))\n",
    "#Var(X) = E(X**2) - (E(X))**2\n",
    "meanofXsquare = (1**2*0.21)+(5**2*0.40)+(8**2*0.39)\n",
    "print(\"Correlation between X and Y:\", (EXY - (EX*meanofY)) / math.sqrt(((meanofYsquare - meanofY**2)*(meanofXsquare - EX**2))))"
   ]
  },
  {
   "cell_type": "code",
   "execution_count": 12,
   "metadata": {},
   "outputs": [
    {
     "name": "stdout",
     "output_type": "stream",
     "text": [
      "0.8413447460685429\n",
      "0.8413447460685429\n",
      "0.632671609662145\n",
      "0.22280263433113212\n"
     ]
    }
   ],
   "source": [
    "#10\n",
    "import scipy.stats as st\n",
    "#a) N(1,4), find P(Y<=3);\n",
    "print(st.norm.cdf((3-1)/math.sqrt(4)))\n",
    "#b) N(3,9), find P(Y>0);\n",
    "print(1 - st.norm.cdf((0-3)/math.sqrt(9)))\n",
    "#c) N(50,25), find P(40<=Y<=52)\n",
    "print(st.norm.cdf((52-50)/math.sqrt(25)) - st.norm.cdf((40-50)/math.sqrt(25)))\n",
    "#d) N(5,2), find P(6<=Y<=8)\n",
    "print(st.norm.cdf((8-5)/math.sqrt(2)) - st.norm.cdf((6-5)/math.sqrt(2)))"
   ]
  },
  {
   "cell_type": "code",
   "execution_count": 13,
   "metadata": {},
   "outputs": [
    {
     "name": "stdout",
     "output_type": "stream",
     "text": [
      "0.9000222578744849\n",
      "0.04995416634369676\n",
      "0.05025525727512614\n",
      "0.6826894921370859\n"
     ]
    }
   ],
   "source": [
    "#11\n",
    "#a) chi-square 4, find P(Y<=7.78)\n",
    "print(st.chi2.cdf(7.78,4))\n",
    "#b chi-square 10, find P(Y>18.31)\n",
    "print(1 - st.chi2.cdf(18.31,10))\n",
    "#c F dist 10, infinity, find P(y>1.83). Note: We will use 10k for infinity. I have tried the math module for infinite value\n",
    "# but it gave me a wrong result.\n",
    "print(1 - st.f.cdf(1.83, 10, 10000))\n",
    "#d Why B and C are the same?\n",
    "# When Y ~ chi-square 10, then Y/10 ~ f(10, infinity)\n",
    "#e\n",
    "print(st.norm.cdf(1) - st.norm.cdf(-1)) ############## ask this to professor ###########"
   ]
  },
  {
   "cell_type": "code",
   "execution_count": 14,
   "metadata": {},
   "outputs": [
    {
     "name": "stdout",
     "output_type": "stream",
     "text": [
      "0.050270089715048094\n",
      "0.9503741824357519\n",
      "0.9534090644995763\n",
      "0.09471335302233552\n",
      "0.010041218300873012\n"
     ]
    }
   ],
   "source": [
    "#12\n",
    "#a) t15, find P(y>1.75)\n",
    "print(1 - st.t.cdf(1.75, 15))\n",
    "#b t90, find P(-1.99<=Y<=1.99)\n",
    "print(st.t.cdf(1.99,90) - st.t.cdf(-1.99, 90))\n",
    "#c N(0,1), find P(-1.99<=Y<=1.99)\n",
    "print(st.norm.cdf(1.99) - st.norm.cdf(-1.99))\n",
    "#d why B and C are the same: When dof is large, they're approximately the same\n",
    "#e f 7,4 , find P(Y>4.12)\n",
    "print(1 - st.f.cdf(4.12, 7, 4))\n",
    "#f F 7,120 , find P(Y>2.79)\n",
    "print(1 - st.f.cdf(2.79, 7, 120))"
   ]
  },
  {
   "cell_type": "code",
   "execution_count": 15,
   "metadata": {},
   "outputs": [],
   "source": [
    "#13\n",
    "# proof question - skipped"
   ]
  },
  {
   "cell_type": "code",
   "execution_count": 16,
   "metadata": {},
   "outputs": [
    {
     "name": "stdout",
     "output_type": "stream",
     "text": [
      "0.9363686681897804\n",
      "0.9999553120411752\n",
      "0.11110848082068059\n"
     ]
    }
   ],
   "source": [
    "#14\n",
    "#a\n",
    "print(st.norm.cdf((101-100)/math.sqrt(43/100)))\n",
    "#b\n",
    "print(1 - st.norm.cdf((98-100)/math.sqrt(43/165)))\n",
    "#c\n",
    "print(st.norm.cdf((103-100)/math.sqrt(43/64)) - st.norm.cdf((101-100)/math.sqrt(43/64)))"
   ]
  },
  {
   "cell_type": "code",
   "execution_count": 17,
   "metadata": {},
   "outputs": [
    {
     "name": "stdout",
     "output_type": "stream",
     "text": [
      "0.628906630477303\n",
      "0.9544997361036418\n",
      "0.9999999997460371\n"
     ]
    }
   ],
   "source": [
    "#15\n",
    "#a\n",
    "#i\n",
    "print(st.norm.cdf((10.4-10)/math.sqrt(4/20)) - st.norm.cdf((9.6-10)/math.sqrt(4/20)))\n",
    "#ii\n",
    "print(st.norm.cdf((10.4-10)/math.sqrt(4/100)) - st.norm.cdf((9.6-10)/math.sqrt(4/100)))\n",
    "#iii\n",
    "print(st.norm.cdf((10.4-10)/math.sqrt(4/1000)) - st.norm.cdf((9.6-10)/math.sqrt(4/1000)))\n",
    "#b\n",
    "#As n gets large, the probability converges to 1.\n",
    "#c\n",
    "# argument question - skipped"
   ]
  },
  {
   "cell_type": "code",
   "execution_count": 18,
   "metadata": {},
   "outputs": [],
   "source": [
    "#16\n",
    "# skipped"
   ]
  },
  {
   "cell_type": "code",
   "execution_count": 19,
   "metadata": {},
   "outputs": [
    {
     "name": "stdout",
     "output_type": "stream",
     "text": [
      "0.27014568730371\n",
      "0.11033568095992324\n",
      "9220\n"
     ]
    }
   ],
   "source": [
    "#17\n",
    "#a\n",
    "#i\n",
    "print(1 - st.norm.cdf((0.43-0.4)/math.sqrt(0.4*0.6/100)))\n",
    "#ii\n",
    "print(st.norm.cdf((0.37-0.4)/math.sqrt(0.4*0.6/400)))\n",
    "#b we want to solve this equation: (0.41-0.4)/math.sqrt(0.6*0.4/n) > 1.96 AND \n",
    "# (0.39-0.4)/math.sqrt(0.6*0.4/n) < -1.96. We find the result to be n >= 9220\n",
    "n = 1\n",
    "while True:\n",
    "    if (0.41-0.4)/math.sqrt(0.6*0.4/n) < 1.96:\n",
    "        n += 1\n",
    "        continue\n",
    "    else:\n",
    "        print(n)\n",
    "        break"
   ]
  },
  {
   "cell_type": "code",
   "execution_count": 20,
   "metadata": {},
   "outputs": [
    {
     "name": "stdout",
     "output_type": "stream",
     "text": [
      "The mean and standard deviation are 1000.0 and 4358.898943540674 respectively\n",
      "Expected value doesn't change, it is still 1000.0\n",
      "The probability of Y_bar exceeds 2000$: 0.010890731395559738\n"
     ]
    }
   ],
   "source": [
    "#18\n",
    "#a\n",
    "meanofy = 0 * 0.95 + 20000 * 0.05\n",
    "varofy = (0 - 1000)**2 * 0.95 + (20000-1000)**2 * 0.05\n",
    "print(\"The mean and standard deviation are\", meanofy, \"and\", math.sqrt(varofy), \"respectively\")\n",
    "#b\n",
    "#i\n",
    "varofy_updated = varofy / 100\n",
    "print(\"Expected value doesn't change, it is still\", meanofy)\n",
    "#ii Using Central limit theorem\n",
    "print(\"The probability of Y_bar exceeds 2000$:\", 1 - st.norm.cdf((2000-1000)/math.sqrt(varofy_updated)))"
   ]
  },
  {
   "cell_type": "code",
   "execution_count": 21,
   "metadata": {},
   "outputs": [],
   "source": [
    "#rest of the questions are proof questions - skipped\n"
   ]
  },
  {
   "cell_type": "code",
   "execution_count": null,
   "metadata": {},
   "outputs": [],
   "source": []
  },
  {
   "cell_type": "code",
   "execution_count": null,
   "metadata": {},
   "outputs": [],
   "source": []
  }
 ],
 "metadata": {
  "kernelspec": {
   "display_name": "Python 3",
   "language": "python",
   "name": "python3"
  },
  "language_info": {
   "codemirror_mode": {
    "name": "ipython",
    "version": 3
   },
   "file_extension": ".py",
   "mimetype": "text/x-python",
   "name": "python",
   "nbconvert_exporter": "python",
   "pygments_lexer": "ipython3",
   "version": "3.7.6"
  }
 },
 "nbformat": 4,
 "nbformat_minor": 4
}
